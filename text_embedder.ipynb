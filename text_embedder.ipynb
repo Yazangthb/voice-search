{
 "cells": [
  {
   "cell_type": "markdown",
   "metadata": {},
   "source": [
    "We will start by extracting sentences from the paper \"Retrieval-Augmented Generation for Knowledge-Intensive NLP Tasks\""
   ]
  },
  {
   "cell_type": "code",
   "execution_count": 1,
   "metadata": {},
   "outputs": [
    {
     "name": "stdout",
     "output_type": "stream",
     "text": [
      "Requirement already satisfied: PyPDF2 in c:\\users\\yazan\\anaconda3\\lib\\site-packages (3.0.1)\n",
      "Requirement already satisfied: nltk in c:\\users\\yazan\\anaconda3\\lib\\site-packages (3.8.1)\n",
      "Requirement already satisfied: pandas in c:\\users\\yazan\\anaconda3\\lib\\site-packages (2.1.4)\n",
      "Requirement already satisfied: click in c:\\users\\yazan\\anaconda3\\lib\\site-packages (from nltk) (8.1.7)\n",
      "Requirement already satisfied: joblib in c:\\users\\yazan\\anaconda3\\lib\\site-packages (from nltk) (1.2.0)\n",
      "Requirement already satisfied: regex>=2021.8.3 in c:\\users\\yazan\\anaconda3\\lib\\site-packages (from nltk) (2023.10.3)\n",
      "Requirement already satisfied: tqdm in c:\\users\\yazan\\anaconda3\\lib\\site-packages (from nltk) (4.66.4)\n",
      "Requirement already satisfied: numpy<2,>=1.23.2 in c:\\users\\yazan\\anaconda3\\lib\\site-packages (from pandas) (1.24.3)\n",
      "Requirement already satisfied: python-dateutil>=2.8.2 in c:\\users\\yazan\\anaconda3\\lib\\site-packages (from pandas) (2.8.2)\n",
      "Requirement already satisfied: pytz>=2020.1 in c:\\users\\yazan\\anaconda3\\lib\\site-packages (from pandas) (2023.3.post1)\n",
      "Requirement already satisfied: tzdata>=2022.1 in c:\\users\\yazan\\anaconda3\\lib\\site-packages (from pandas) (2023.3)\n",
      "Requirement already satisfied: six>=1.5 in c:\\users\\yazan\\anaconda3\\lib\\site-packages (from python-dateutil>=2.8.2->pandas) (1.16.0)\n",
      "Requirement already satisfied: colorama in c:\\users\\yazan\\anaconda3\\lib\\site-packages (from click->nltk) (0.4.6)\n"
     ]
    }
   ],
   "source": [
    "!pip install PyPDF2 nltk pandas"
   ]
  },
  {
   "cell_type": "code",
   "execution_count": 2,
   "metadata": {},
   "outputs": [
    {
     "name": "stderr",
     "output_type": "stream",
     "text": [
      "[nltk_data] Downloading package punkt to\n",
      "[nltk_data]     C:\\Users\\Yazan\\AppData\\Roaming\\nltk_data...\n",
      "[nltk_data]   Package punkt is already up-to-date!\n"
     ]
    },
    {
     "name": "stdout",
     "output_type": "stream",
     "text": [
      "Sentences extracted and saved to sentences.csv\n"
     ]
    }
   ],
   "source": [
    "import PyPDF2\n",
    "import nltk\n",
    "import pandas as pd\n",
    "import re\n",
    "\n",
    "# Download NLTK data files (first time only)\n",
    "nltk.download('punkt')\n",
    "\n",
    "def extract_text_from_pdf(pdf_path):\n",
    "    with open(pdf_path, 'rb') as file:\n",
    "        reader = PyPDF2.PdfReader(file)\n",
    "        text = \"\"\n",
    "        for page in reader.pages:\n",
    "            text += page.extract_text()\n",
    "    return text\n",
    "\n",
    "def clean_text(text):\n",
    "    # Remove unwanted characters and split by sentences\n",
    "    text = re.sub(r'\\s+', ' ', text)\n",
    "    sentences = nltk.sent_tokenize(text)\n",
    "    return sentences\n",
    "\n",
    "# Extract text from the PDF\n",
    "pdf_path = 'RAG.pdf'\n",
    "text = extract_text_from_pdf(pdf_path)\n",
    "\n",
    "# Clean and split text into sentences\n",
    "sentences = clean_text(text)\n",
    "\n",
    "# Save sentences into a CSV file\n",
    "df = pd.DataFrame(sentences, columns=['sentence'])\n",
    "df.to_csv('sentences.csv', index=False)\n",
    "\n",
    "print(\"Sentences extracted and saved to sentences.csv\")\n"
   ]
  },
  {
   "cell_type": "markdown",
   "metadata": {},
   "source": [
    "Now we will generate embeddings using MiniLM "
   ]
  },
  {
   "cell_type": "code",
   "execution_count": 3,
   "metadata": {},
   "outputs": [
    {
     "name": "stderr",
     "output_type": "stream",
     "text": [
      "c:\\Users\\Yazan\\anaconda3\\Lib\\site-packages\\sentence_transformers\\cross_encoder\\CrossEncoder.py:11: TqdmExperimentalWarning: Using `tqdm.autonotebook.tqdm` in notebook mode. Use `tqdm.tqdm` instead to force console mode (e.g. in jupyter console)\n",
      "  from tqdm.autonotebook import tqdm, trange\n",
      "c:\\Users\\Yazan\\anaconda3\\Lib\\site-packages\\huggingface_hub\\file_download.py:1132: FutureWarning: `resume_download` is deprecated and will be removed in version 1.0.0. Downloads always resume when possible. If you want to force a new download, use `force_download=True`.\n",
      "  warnings.warn(\n"
     ]
    }
   ],
   "source": [
    "from sentence_transformers import SentenceTransformer\n",
    "import numpy as np\n",
    "\n",
    "# Load the dataset\n",
    "data = pd.read_csv('sentences.csv')\n",
    "sentences = data['sentence'].tolist()\n",
    "\n",
    "# Load the model\n",
    "model = SentenceTransformer('sentence-transformers/all-MiniLM-L6-v2')\n",
    "\n",
    "# Generate embeddings\n",
    "embeddings = model.encode(sentences)\n",
    "\n",
    "# Save embeddings to a file for further use\n",
    "np.save('embeddings.npy', embeddings)\n"
   ]
  },
  {
   "cell_type": "code",
   "execution_count": 4,
   "metadata": {},
   "outputs": [],
   "source": [
    "from sklearn.decomposition import PCA\n",
    "\n",
    "# Load embeddings\n",
    "embeddings = np.load('embeddings.npy')\n",
    "\n",
    "# Apply PCA for dimensionality reduction\n",
    "pca = PCA(n_components=128)\n",
    "reduced_embeddings = pca.fit_transform(embeddings)\n",
    "\n",
    "# Save reduced embeddings for further use\n",
    "np.save('reduced_embeddings.npy', reduced_embeddings)\n"
   ]
  },
  {
   "cell_type": "code",
   "execution_count": 5,
   "metadata": {},
   "outputs": [
    {
     "name": "stdout",
     "output_type": "stream",
     "text": [
      "Requirement already satisfied: Levenshtein in c:\\users\\yazan\\anaconda3\\lib\\site-packages (0.25.1)\n",
      "Requirement already satisfied: rapidfuzz<4.0.0,>=3.8.0 in c:\\users\\yazan\\anaconda3\\lib\\site-packages (from Levenshtein) (3.8.1)\n"
     ]
    }
   ],
   "source": [
    "!pip install Levenshtein"
   ]
  },
  {
   "cell_type": "code",
   "execution_count": 6,
   "metadata": {},
   "outputs": [
    {
     "name": "stdout",
     "output_type": "stream",
     "text": [
      "Requirement already satisfied: matplotlib_venn in c:\\users\\yazan\\anaconda3\\lib\\site-packages (0.11.10)\n",
      "Requirement already satisfied: matplotlib in c:\\users\\yazan\\anaconda3\\lib\\site-packages (from matplotlib_venn) (3.8.4)\n",
      "Requirement already satisfied: numpy in c:\\users\\yazan\\anaconda3\\lib\\site-packages (from matplotlib_venn) (1.24.3)\n",
      "Requirement already satisfied: scipy in c:\\users\\yazan\\anaconda3\\lib\\site-packages (from matplotlib_venn) (1.10.1)\n",
      "Requirement already satisfied: contourpy>=1.0.1 in c:\\users\\yazan\\anaconda3\\lib\\site-packages (from matplotlib->matplotlib_venn) (1.2.0)\n",
      "Requirement already satisfied: cycler>=0.10 in c:\\users\\yazan\\anaconda3\\lib\\site-packages (from matplotlib->matplotlib_venn) (0.11.0)\n",
      "Requirement already satisfied: fonttools>=4.22.0 in c:\\users\\yazan\\anaconda3\\lib\\site-packages (from matplotlib->matplotlib_venn) (4.25.0)\n",
      "Requirement already satisfied: kiwisolver>=1.3.1 in c:\\users\\yazan\\anaconda3\\lib\\site-packages (from matplotlib->matplotlib_venn) (1.4.4)\n",
      "Requirement already satisfied: packaging>=20.0 in c:\\users\\yazan\\anaconda3\\lib\\site-packages (from matplotlib->matplotlib_venn) (23.1)\n",
      "Requirement already satisfied: pillow>=8 in c:\\users\\yazan\\anaconda3\\lib\\site-packages (from matplotlib->matplotlib_venn) (10.2.0)\n",
      "Requirement already satisfied: pyparsing>=2.3.1 in c:\\users\\yazan\\anaconda3\\lib\\site-packages (from matplotlib->matplotlib_venn) (3.0.9)\n",
      "Requirement already satisfied: python-dateutil>=2.7 in c:\\users\\yazan\\anaconda3\\lib\\site-packages (from matplotlib->matplotlib_venn) (2.8.2)\n",
      "Requirement already satisfied: six>=1.5 in c:\\users\\yazan\\anaconda3\\lib\\site-packages (from python-dateutil>=2.7->matplotlib->matplotlib_venn) (1.16.0)\n"
     ]
    }
   ],
   "source": [
    "!pip install matplotlib_venn"
   ]
  },
  {
   "cell_type": "code",
   "execution_count": 7,
   "metadata": {},
   "outputs": [
    {
     "name": "stdout",
     "output_type": "stream",
     "text": [
      "Type                                               Original Reduced\n",
      "Sentence                                                           \n",
      "As shown in Table 6, learned retrieval improves...     51.0    51.0\n",
      "H Retrieval Collapse In preliminary experiments...    186.0   186.0\n",
      "In many real-world applications, retrieval supe...        -   140.0\n",
      "Learned Retrieval There is signiﬁcant work on l...    154.0   154.0\n",
      "Our work uniﬁes previous successes in incorpora...        -   168.0\n",
      "REALM: Retrieval-augmented language model pre-t...     32.0       -\n",
      "Retrieval-Augmented Generation for Knowledge-In...    496.0       -\n",
      "Some work optimizes the retrieval module to aid...    179.0   179.0\n",
      "We conducted an thorough investigation of the l...    187.0   187.0\n",
      "We endow pre-trained, parametric-memory generat...    152.0   152.0\n",
      "We explore a general-purpose ﬁne-tuning recipe ...    147.0   147.0\n",
      "[46] also found spurious retrieval results when...    101.0   101.0\n"
     ]
    }
   ],
   "source": [
    "import numpy as np\n",
    "import pandas as pd\n",
    "from sklearn.metrics.pairwise import cosine_similarity\n",
    "from Levenshtein import distance as levenshtein_distance\n",
    "import matplotlib.pyplot as plt\n",
    "from matplotlib_venn import venn2\n",
    "\n",
    "# Load embeddings\n",
    "embeddings = np.load('embeddings.npy')\n",
    "reduced_embeddings = np.load('reduced_embeddings.npy')\n",
    "\n",
    "# Create a search query\n",
    "search_query = \"How does retrieval-augmented generation work?\"\n",
    "\n",
    "# Generate embedding for the search query\n",
    "query_embedding = model.encode([search_query])\n",
    "\n",
    "# Compute similarity for original embeddings\n",
    "similarities_original = cosine_similarity(query_embedding, embeddings)\n",
    "top_10_indices_original = similarities_original.argsort()[0][-10:][::-1]\n",
    "top_10_sentences_original = [sentences[i] for i in top_10_indices_original]\n",
    "\n",
    "# Compute similarity for reduced embeddings\n",
    "reduced_query_embedding = pca.transform(query_embedding)\n",
    "similarities_reduced = cosine_similarity(reduced_query_embedding, reduced_embeddings)\n",
    "top_10_indices_reduced = similarities_reduced.argsort()[0][-10:][::-1]\n",
    "top_10_sentences_reduced = [sentences[i] for i in top_10_indices_reduced]\n",
    "\n",
    "# Evaluate using Levenshtein distance\n",
    "def evaluate_similarity(query, results):\n",
    "    distances = [levenshtein_distance(query, result) for result in results]\n",
    "    return distances\n",
    "\n",
    "distances_original = evaluate_similarity(search_query, top_10_sentences_original)\n",
    "distances_reduced = evaluate_similarity(search_query, top_10_sentences_reduced)\n",
    "\n",
    "# Create a pivot table\n",
    "evaluation_df_original = pd.DataFrame({\n",
    "    'Sentence': top_10_sentences_original,\n",
    "    'Levenshtein Distance': distances_original,\n",
    "    'Type': 'Original'\n",
    "})\n",
    "\n",
    "evaluation_df_reduced = pd.DataFrame({\n",
    "    'Sentence': top_10_sentences_reduced,\n",
    "    'Levenshtein Distance': distances_reduced,\n",
    "    'Type': 'Reduced'\n",
    "})\n",
    "\n",
    "evaluation_df = pd.concat([evaluation_df_original, evaluation_df_reduced])\n",
    "\n",
    "# Create a pivot table to summarize results\n",
    "pivot_table = evaluation_df.pivot_table(index='Sentence', columns='Type', values='Levenshtein Distance', aggfunc='first').fillna('-')\n",
    "print(pivot_table)\n"
   ]
  },
  {
   "cell_type": "code",
   "execution_count": 9,
   "metadata": {},
   "outputs": [
    {
     "name": "stdout",
     "output_type": "stream",
     "text": [
      "\n",
      "Common Words in Intersection Sentences:\n",
      "learned: 3\n",
      "retrieval: 9\n",
      "work: 2\n",
      "on: 2\n",
      "learning: 2\n",
      "to: 7\n",
      "retrieve: 2\n",
      "documents: 2\n",
      "in: 6\n",
      "with: 2\n",
      "pre-trained,: 2\n",
      "language: 2\n",
      "models: 3\n",
      "[: 5\n",
      "we: 6\n",
      "for: 4\n",
      "some: 2\n",
      "such: 2\n",
      "as: 5\n",
      "generation: 4\n",
      "the: 7\n",
      "component: 2\n",
      "and: 3\n",
      "of: 2\n",
      "a: 6\n",
      "downstream: 2\n",
      "approach: 2\n",
      "general-purpose: 2\n",
      "ﬁne-tuning: 2\n",
      "retrieval-augmented: 2\n",
      "which: 2\n",
      "non-parametric: 2\n",
      "results: 2\n",
      "tasks.: 2\n"
     ]
    }
   ],
   "source": [
    "from collections import Counter\n",
    "intersection_sentences = set(top_10_sentences_original) & set(top_10_sentences_reduced)\n",
    "def get_word_counts(sentences):\n",
    "    words = ' '.join(sentences).lower().split()\n",
    "    return Counter(words)\n",
    "\n",
    "intersection_words = get_word_counts(intersection_sentences)\n",
    "print(\"\\nCommon Words in Intersection Sentences:\")\n",
    "for word, count in intersection_words.items():\n",
    "    if count > 1:  # Only show words that appear more than once\n",
    "        print(f'{word}: {count}')"
   ]
  },
  {
   "cell_type": "code",
   "execution_count": null,
   "metadata": {},
   "outputs": [],
   "source": []
  },
  {
   "cell_type": "code",
   "execution_count": null,
   "metadata": {},
   "outputs": [],
   "source": []
  }
 ],
 "metadata": {
  "kernelspec": {
   "display_name": "base",
   "language": "python",
   "name": "python3"
  },
  "language_info": {
   "codemirror_mode": {
    "name": "ipython",
    "version": 3
   },
   "file_extension": ".py",
   "mimetype": "text/x-python",
   "name": "python",
   "nbconvert_exporter": "python",
   "pygments_lexer": "ipython3",
   "version": "3.11.7"
  }
 },
 "nbformat": 4,
 "nbformat_minor": 2
}
